{
 "cells": [
  {
   "cell_type": "markdown",
   "id": "0752326d",
   "metadata": {},
   "source": [
    "텐서플로의 즉시 실행은 그래프를 생성하지 않고 함수를 바로 실행하는 명령형 프로그래밍 환경입니다. 나중에 실행하기 위해 계산가능한 그래프를 생성하는 대신에 계산값을 즉시 알려주는 연산입니다. 이러한 기능은 텐서플로를 시작하고 모델을 디버깅하는 것을 더욱 쉽게 만들고 불필요한 상용구 코드(boilerplate code) 작성을 줄여줍니다"
   ]
  },
  {
   "cell_type": "markdown",
   "id": "c3053602",
   "metadata": {},
   "source": [
    "즉시 실행은 연구와 실험을 위한 유연한 기계학습 플랫폼으로 다음과 같은 기능을 제공합니다:\n",
    "\n",
    "* 직관적인 인터페이스-코드를 자연스럽게 구조화하고 파이썬의 데이터 구조를 활용. 작은 모델과 작은 데이터를 빠르게 반복\n",
    "* 손쉬운 디버깅-실행중인 모델을 검토하거나 변경 사항을 테스트해보기 위해서 연산을 직접 호출. 에러 확인을 위해서 표준 파이썬 디버깅 툴을 사용\n",
    "* 자연스런 흐름 제어-그래프 제어 흐름 대신에 파이썬 제어 흐름을 사용함으로써 동적인 모델 구조의 단순화"
   ]
  },
  {
   "cell_type": "code",
   "execution_count": 2,
   "id": "12b02a26",
   "metadata": {
    "ExecuteTime": {
     "end_time": "2022-09-02T03:14:37.571346Z",
     "start_time": "2022-09-02T03:14:37.557838Z"
    }
   },
   "outputs": [
    {
     "data": {
      "text/plain": [
       "True"
      ]
     },
     "execution_count": 2,
     "metadata": {},
     "output_type": "execute_result"
    }
   ],
   "source": [
    "import tensorflow as tf\n",
    "\n",
    "import cProfile\n",
    "\n",
    "tf.executing_eagerly()"
   ]
  },
  {
   "cell_type": "markdown",
   "id": "ce8434c6",
   "metadata": {},
   "source": [
    "# 그래디언트 계산하기"
   ]
  },
  {
   "cell_type": "markdown",
   "id": "1cf21ca5",
   "metadata": {},
   "source": [
    "자동 미분은 인공 신경망 훈련을 위한 역전파와 같은 기계학습 알고리즘을 구현하는데 유용합니다. 즉시 실행을 사용하는 동안에는, 나중에 그래디언트를 계산하는 연산을 추적하기 위해 tf.GradientTape을 사용하세요.\n",
    "\n",
    "즉시 실행 중에 그래디언트를 계산하고 모델 훈련에 이용하기 위해서 tf.GradientTape을 사용할 수 있습니다. 특히 복잡하고 반복적인 훈련인 경우에 더 유용합니다.\n",
    "\n",
    "매번 실행될 때 서로 다른 연산이 수행될 수 있기 때문에 모든 정방향(forward-pass) 연산은 \"tape\"에 기록됩니다. 그다음 tape를 거꾸로 돌려 그래디언트를 계산한 후 tape를 폐기합니다. 특정한 tf.GradientTape는 오직 하나의 그래디언트만을 계산할 수 있고 부가적인 호출은 실행중 에러(runtime error)를 발생시킵니다."
   ]
  },
  {
   "cell_type": "code",
   "execution_count": 8,
   "id": "737d122d",
   "metadata": {
    "ExecuteTime": {
     "end_time": "2022-09-02T03:17:11.189015Z",
     "start_time": "2022-09-02T03:17:11.167055Z"
    }
   },
   "outputs": [
    {
     "name": "stdout",
     "output_type": "stream",
     "text": [
      "tf.Tensor([[2.]], shape=(1, 1), dtype=float32)\n"
     ]
    }
   ],
   "source": [
    "w = tf.Variable([[1.0]])\n",
    "with tf.GradientTape() as tape:\n",
    "    loss = w * w\n",
    "\n",
    "grad = tape.gradient(loss, w)\n",
    "print(grad)  # => tf.Tensor([[ 2.]], shape=(1, 1), dtype=float32)"
   ]
  },
  {
   "cell_type": "code",
   "execution_count": 9,
   "id": "be0fb705",
   "metadata": {
    "ExecuteTime": {
     "end_time": "2022-09-02T03:17:48.482714Z",
     "start_time": "2022-09-02T03:17:47.877946Z"
    }
   },
   "outputs": [],
   "source": [
    "# mnist 데이터 가져오기 및 포맷 맞추기\n",
    "(mnist_images, mnist_labels), _ = tf.keras.datasets.mnist.load_data()\n",
    "\n",
    "dataset = tf.data.Dataset.from_tensor_slices(\n",
    "  (tf.cast(mnist_images[...,tf.newaxis]/255, tf.float32),\n",
    "   tf.cast(mnist_labels,tf.int64)))\n",
    "dataset = dataset.shuffle(1000).batch(32)"
   ]
  },
  {
   "cell_type": "code",
   "execution_count": 10,
   "id": "82053de1",
   "metadata": {
    "ExecuteTime": {
     "end_time": "2022-09-02T03:18:00.684036Z",
     "start_time": "2022-09-02T03:18:00.639055Z"
    }
   },
   "outputs": [],
   "source": [
    "# 모델 생성\n",
    "mnist_model = tf.keras.Sequential([\n",
    "  tf.keras.layers.Conv2D(16,[3,3], activation='relu',\n",
    "                         input_shape=(None, None, 1)),\n",
    "  tf.keras.layers.Conv2D(16,[3,3], activation='relu'),\n",
    "  tf.keras.layers.GlobalAveragePooling2D(),\n",
    "  tf.keras.layers.Dense(10)\n",
    "])"
   ]
  },
  {
   "cell_type": "code",
   "execution_count": 13,
   "id": "f0074bed",
   "metadata": {
    "ExecuteTime": {
     "end_time": "2022-09-02T03:19:15.467938Z",
     "start_time": "2022-09-02T03:19:15.381929Z"
    }
   },
   "outputs": [
    {
     "name": "stdout",
     "output_type": "stream",
     "text": [
      "로짓:  [[-0.04847394  0.04646802 -0.02276139  0.01996327  0.03230965  0.0162541\n",
      "   0.01096627  0.00155237 -0.02542919 -0.03108242]]\n",
      "True label : tf.Tensor([6], shape=(1,), dtype=int64)\n"
     ]
    }
   ],
   "source": [
    "for images, labels in dataset.take(1):\n",
    "    print(\"로짓: \", mnist_model(images[0:1]).numpy())\n",
    "    print(\"True label :\", labels[0:1])"
   ]
  },
  {
   "cell_type": "markdown",
   "id": "cdc76d13",
   "metadata": {},
   "source": [
    "## 반복훈련"
   ]
  },
  {
   "cell_type": "code",
   "execution_count": 14,
   "id": "ccf48742",
   "metadata": {
    "ExecuteTime": {
     "end_time": "2022-09-02T03:19:42.561271Z",
     "start_time": "2022-09-02T03:19:42.557280Z"
    }
   },
   "outputs": [],
   "source": [
    "optimizer = tf.keras.optimizers.Adam()\n",
    "loss_object = tf.keras.losses.SparseCategoricalCrossentropy(from_logits=True)\n",
    "\n",
    "loss_history = []"
   ]
  },
  {
   "cell_type": "code",
   "execution_count": 15,
   "id": "25dee1b4",
   "metadata": {
    "ExecuteTime": {
     "end_time": "2022-09-02T03:22:14.052782Z",
     "start_time": "2022-09-02T03:22:14.045745Z"
    }
   },
   "outputs": [],
   "source": [
    "def train_step(images, labels):\n",
    "    with tf.GradientTape() as tape:\n",
    "        logits = mnist_model(images, training=True) # 모델의 예측\n",
    "\n",
    "        # 결과의 형태를 확인하기 위해서 단언문 추가\n",
    "        tf.debugging.assert_equal(logits.shape, (32, 10)) # 결과의 형태가 (batch_size, class_num) 인지 확인\n",
    "\n",
    "        loss_value = loss_object(labels, logits) # 로스 계산\n",
    "\n",
    "    loss_history.append(loss_value.numpy().mean()) # 로스 history\n",
    "    grads = tape.gradient(loss_value, mnist_model.trainable_variables) # loss에서 grad 계산\n",
    "    optimizer.apply_gradients(zip(grads, mnist_model.trainable_variables)) # 최적화"
   ]
  },
  {
   "cell_type": "code",
   "execution_count": 18,
   "id": "01e28e94",
   "metadata": {
    "ExecuteTime": {
     "end_time": "2022-09-02T03:22:59.820065Z",
     "start_time": "2022-09-02T03:22:59.807062Z"
    }
   },
   "outputs": [],
   "source": [
    "def train():\n",
    "    for epoch in range(3):\n",
    "        for (batch, (images, labels)) in enumerate(dataset):\n",
    "            train_step(images, labels)\n",
    "        print('에포크 {} 종료'.format(epoch))"
   ]
  },
  {
   "cell_type": "code",
   "execution_count": 19,
   "id": "241fbbe0",
   "metadata": {
    "ExecuteTime": {
     "end_time": "2022-09-02T03:23:44.927821Z",
     "start_time": "2022-09-02T03:23:03.214001Z"
    }
   },
   "outputs": [
    {
     "name": "stdout",
     "output_type": "stream",
     "text": [
      "에포크 0 종료\n",
      "에포크 1 종료\n",
      "에포크 2 종료\n"
     ]
    }
   ],
   "source": [
    "train()"
   ]
  },
  {
   "cell_type": "code",
   "execution_count": 20,
   "id": "56a556ef",
   "metadata": {
    "ExecuteTime": {
     "end_time": "2022-09-02T03:24:28.148629Z",
     "start_time": "2022-09-02T03:24:27.621927Z"
    }
   },
   "outputs": [
    {
     "data": {
      "text/plain": [
       "Text(0, 0.5, 'Loss [entropy]')"
      ]
     },
     "execution_count": 20,
     "metadata": {},
     "output_type": "execute_result"
    },
    {
     "data": {
      "image/png": "[encoded data removed]",
      "text/plain": [
       "<Figure size 432x288 with 1 Axes>"
      ]
     },
     "metadata": {
      "needs_background": "light"
     },
     "output_type": "display_data"
    }
   ],
   "source": [
    "import matplotlib.pyplot as plt\n",
    "\n",
    "plt.plot(loss_history)\n",
    "plt.xlabel('Batch #')\n",
    "plt.ylabel('Loss [entropy]')"
   ]
  },
  {
   "cell_type": "markdown",
   "id": "670bc837",
   "metadata": {},
   "source": [
    "## 변수와 옵티마이저"
   ]
  },
  {
   "cell_type": "markdown",
   "id": "c7f30f85",
   "metadata": {
    "ExecuteTime": {
     "end_time": "2022-09-02T03:26:31.857080Z",
     "start_time": "2022-09-02T03:26:31.839071Z"
    }
   },
   "source": [
    "tf.Variable 객체는 자동 미분을 쉽게 하기 위해서 학습동안 변경된 tf.Tensor 값을 저장합니다. 모델 파라미터는 클래스 인스턴스 변수로 캡슐화될 수 있습니다.\n",
    "\n",
    "효과적으로 모델 파라미터를 캡슐화하려면 tf.Variable을 tf.GradientTape과 함께 사용합니다. 예를 들어, 위의 자동 미분은 다음과 같이 재작성 가능합니다:"
   ]
  },
  {
   "cell_type": "code",
   "execution_count": 22,
   "id": "cb6f3b70",
   "metadata": {
    "ExecuteTime": {
     "end_time": "2022-09-02T03:27:50.516216Z",
     "start_time": "2022-09-02T03:27:49.927081Z"
    }
   },
   "outputs": [
    {
     "name": "stdout",
     "output_type": "stream",
     "text": [
      "초기 손실: 69.280\n",
      "스텝 000에서 손실: 66.568\n",
      "스텝 020에서 손실: 30.146\n",
      "스텝 040에서 손실: 13.947\n",
      "스텝 060에서 손실: 6.741\n",
      "스텝 080에서 손실: 3.534\n",
      "스텝 100에서 손실: 2.107\n",
      "스텝 120에서 손실: 1.472\n",
      "스텝 140에서 손실: 1.189\n",
      "스텝 160에서 손실: 1.063\n",
      "스텝 180에서 손실: 1.007\n",
      "스텝 200에서 손실: 0.982\n",
      "스텝 220에서 손실: 0.971\n",
      "스텝 240에서 손실: 0.966\n",
      "스텝 260에서 손실: 0.964\n",
      "스텝 280에서 손실: 0.963\n",
      "최종 손실: 0.963\n",
      "W = 3.006845712661743, B = 2.0074503421783447\n"
     ]
    }
   ],
   "source": [
    "class Model(tf.keras.Model):\n",
    "\n",
    "    def __init__(self):\n",
    "        super(Model, self).__init__()\n",
    "        self.W = tf.Variable(5., name='weight')\n",
    "        self.B = tf.Variable(10., name='bias')\n",
    "\n",
    "    def call(self, inputs):\n",
    "        return inputs * self.W + self.B\n",
    "\n",
    "\n",
    "# 약 3 * x + 2개의 점으로 구성된 실험 데이터\n",
    "NUM_EXAMPLES = 2000\n",
    "training_inputs = tf.random.normal([NUM_EXAMPLES])\n",
    "noise = tf.random.normal([NUM_EXAMPLES])\n",
    "training_outputs = training_inputs * 3 + 2 + noise\n",
    "\n",
    "\n",
    "# 최적화할 손실함수\n",
    "def loss(model, inputs, targets):\n",
    "    error = model(inputs) - targets\n",
    "    return tf.reduce_mean(tf.square(error))\n",
    "\n",
    "\n",
    "def grad(model, inputs, targets):\n",
    "    with tf.GradientTape() as tape:\n",
    "        loss_value = loss(model, inputs, targets)\n",
    "    return tape.gradient(loss_value, [model.W, model.B])\n",
    "\n",
    "\n",
    "# 정의:\n",
    "# 1. 모델\n",
    "# 2. 모델 파라미터에 대한 손실 함수의 미분\n",
    "# 3. 미분에 기초한 변수 업데이트 전략\n",
    "model = Model()\n",
    "optimizer = tf.keras.optimizers.SGD(learning_rate=0.01)\n",
    "\n",
    "print(\"초기 손실: {:.3f}\".format(loss(model, training_inputs, training_outputs)))\n",
    "\n",
    "# 반복 훈련\n",
    "for i in range(300):\n",
    "    grads = grad(model, training_inputs, training_outputs)\n",
    "    optimizer.apply_gradients(zip(grads, [model.W, model.B]))\n",
    "    if i % 20 == 0:\n",
    "        print(\"스텝 {:03d}에서 손실: {:.3f}\".format(\n",
    "            i, loss(model, training_inputs, training_outputs)))\n",
    "\n",
    "print(\"최종 손실: {:.3f}\".format(loss(model, training_inputs, training_outputs)))\n",
    "print(\"W = {}, B = {}\".format(model.W.numpy(), model.B.numpy()))"
   ]
  },
  {
   "cell_type": "code",
   "execution_count": null,
   "id": "f1aaba1e",
   "metadata": {},
   "outputs": [],
   "source": [
    "if tf.config.experimental.list_physical_devices(\"GPU\"):\n",
    "    with tf.device(\"gpu:0\"):\n",
    "        print(\"GPU 사용 가능\")\n",
    "        v = tf.Variable(tf.random.normal([1000, 1000]))\n",
    "        v = None  # v는 더이상 GPU 메모리를 사용하지 않음"
   ]
  }
 ],
 "metadata": {
  "kernelspec": {
   "display_name": "Python 3 (ipykernel)",
   "language": "python",
   "name": "python3"
  },
  "language_info": {
   "codemirror_mode": {
    "name": "ipython",
    "version": 3
   },
   "file_extension": ".py",
   "mimetype": "text/x-python",
   "name": "python",
   "nbconvert_exporter": "python",
   "pygments_lexer": "ipython3",
   "version": "3.9.0"
  },
  "toc": {
   "base_numbering": 1,
   "nav_menu": {},
   "number_sections": true,
   "sideBar": true,
   "skip_h1_title": false,
   "title_cell": "Table of Contents",
   "title_sidebar": "Contents",
   "toc_cell": false,
   "toc_position": {},
   "toc_section_display": true,
   "toc_window_display": true
  }
 },
 "nbformat": 4,
 "nbformat_minor": 5
}
